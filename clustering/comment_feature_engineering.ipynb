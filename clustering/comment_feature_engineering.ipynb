{
 "cells": [
  {
   "cell_type": "code",
   "execution_count": 2,
   "metadata": {},
   "outputs": [],
   "source": [
    "# Import libraries\n",
    "import pandas as pd"
   ]
  },
  {
   "cell_type": "raw",
   "metadata": {},
   "source": [
    "### QUESTIONS\n",
    "1) Can we assume unique commentor names are genuinely different people or do we need to perform some entity resolution on  commentor names?\n",
    "2) "
   ]
  },
  {
   "cell_type": "markdown",
   "metadata": {},
   "source": [
    "### Load cleaned comments data "
   ]
  },
  {
   "cell_type": "code",
   "execution_count": 21,
   "metadata": {},
   "outputs": [
    {
     "name": "stdout",
     "output_type": "stream",
     "text": [
      "Wall time: 48.7 s\n"
     ]
    },
    {
     "data": {
      "text/plain": [
       "(5689832, 5)"
      ]
     },
     "execution_count": 21,
     "metadata": {},
     "output_type": "execute_result"
    }
   ],
   "source": [
    "%%time\n",
    "\n",
    "# Load cleaned comment data\n",
    "comments = pd.read_csv('../data/cleaned/comments.csv', header=0, parse_dates=['scrape_datetime','comment_datetime_clean'])\n",
    "comments.shape"
   ]
  },
  {
   "cell_type": "code",
   "execution_count": 22,
   "metadata": {},
   "outputs": [
    {
     "data": {
      "text/html": [
       "<div>\n",
       "<style scoped>\n",
       "    .dataframe tbody tr th:only-of-type {\n",
       "        vertical-align: middle;\n",
       "    }\n",
       "\n",
       "    .dataframe tbody tr th {\n",
       "        vertical-align: top;\n",
       "    }\n",
       "\n",
       "    .dataframe thead th {\n",
       "        text-align: right;\n",
       "    }\n",
       "</style>\n",
       "<table border=\"1\" class=\"dataframe\">\n",
       "  <thead>\n",
       "    <tr style=\"text-align: right;\">\n",
       "      <th></th>\n",
       "      <th>article_url</th>\n",
       "      <th>commentor</th>\n",
       "      <th>comment_body</th>\n",
       "      <th>scrape_datetime</th>\n",
       "      <th>comment_datetime_clean</th>\n",
       "    </tr>\n",
       "  </thead>\n",
       "  <tbody>\n",
       "    <tr>\n",
       "      <th>0</th>\n",
       "      <td>https://profootballtalk.nbcsports.com/2020/10/...</td>\n",
       "      <td>amaf21</td>\n",
       "      <td>\\nthe best bet is the cowboys giving up 10 sac...</td>\n",
       "      <td>2020-10-28 19:15:17.148123</td>\n",
       "      <td>2020-10-25 10:57:00</td>\n",
       "    </tr>\n",
       "    <tr>\n",
       "      <th>1</th>\n",
       "      <td>https://profootballtalk.nbcsports.com/2020/10/...</td>\n",
       "      <td>amaf21</td>\n",
       "      <td>\\n1 strip sack for a safety down, 9 more to go...</td>\n",
       "      <td>2020-10-28 19:15:17.148123</td>\n",
       "      <td>2020-10-25 13:20:00</td>\n",
       "    </tr>\n",
       "    <tr>\n",
       "      <th>2</th>\n",
       "      <td>https://profootballtalk.nbcsports.com/2020/10/...</td>\n",
       "      <td>eagleswin</td>\n",
       "      <td>\\nTalent still trumps all in the NFL.  In betw...</td>\n",
       "      <td>2020-10-28 19:15:17.169123</td>\n",
       "      <td>2020-10-25 10:46:00</td>\n",
       "    </tr>\n",
       "    <tr>\n",
       "      <th>3</th>\n",
       "      <td>https://profootballtalk.nbcsports.com/2020/10/...</td>\n",
       "      <td>cobrala2</td>\n",
       "      <td>\\nTom Brady wants this guy.\\n</td>\n",
       "      <td>2020-10-28 19:15:17.169123</td>\n",
       "      <td>2020-10-25 10:54:00</td>\n",
       "    </tr>\n",
       "    <tr>\n",
       "      <th>4</th>\n",
       "      <td>https://profootballtalk.nbcsports.com/2020/10/...</td>\n",
       "      <td>freakylj8</td>\n",
       "      <td>\\nUse AB to let Godwin get healthy I guess\\n</td>\n",
       "      <td>2020-10-28 19:15:17.169123</td>\n",
       "      <td>2020-10-25 11:01:00</td>\n",
       "    </tr>\n",
       "  </tbody>\n",
       "</table>\n",
       "</div>"
      ],
      "text/plain": [
       "                                         article_url  commentor  \\\n",
       "0  https://profootballtalk.nbcsports.com/2020/10/...     amaf21   \n",
       "1  https://profootballtalk.nbcsports.com/2020/10/...     amaf21   \n",
       "2  https://profootballtalk.nbcsports.com/2020/10/...  eagleswin   \n",
       "3  https://profootballtalk.nbcsports.com/2020/10/...   cobrala2   \n",
       "4  https://profootballtalk.nbcsports.com/2020/10/...  freakylj8   \n",
       "\n",
       "                                        comment_body  \\\n",
       "0  \\nthe best bet is the cowboys giving up 10 sac...   \n",
       "1  \\n1 strip sack for a safety down, 9 more to go...   \n",
       "2  \\nTalent still trumps all in the NFL.  In betw...   \n",
       "3                     \\nTom Brady wants this guy.\\n    \n",
       "4      \\nUse AB to let Godwin get healthy I guess\\n    \n",
       "\n",
       "             scrape_datetime comment_datetime_clean  \n",
       "0 2020-10-28 19:15:17.148123    2020-10-25 10:57:00  \n",
       "1 2020-10-28 19:15:17.148123    2020-10-25 13:20:00  \n",
       "2 2020-10-28 19:15:17.169123    2020-10-25 10:46:00  \n",
       "3 2020-10-28 19:15:17.169123    2020-10-25 10:54:00  \n",
       "4 2020-10-28 19:15:17.169123    2020-10-25 11:01:00  "
      ]
     },
     "execution_count": 22,
     "metadata": {},
     "output_type": "execute_result"
    }
   ],
   "source": [
    "comments.head()"
   ]
  },
  {
   "cell_type": "markdown",
   "metadata": {},
   "source": [
    "### Engineer numerical features"
   ]
  },
  {
   "cell_type": "code",
   "execution_count": 26,
   "metadata": {},
   "outputs": [
    {
     "data": {
      "text/html": [
       "<div>\n",
       "<style scoped>\n",
       "    .dataframe tbody tr th:only-of-type {\n",
       "        vertical-align: middle;\n",
       "    }\n",
       "\n",
       "    .dataframe tbody tr th {\n",
       "        vertical-align: top;\n",
       "    }\n",
       "\n",
       "    .dataframe thead th {\n",
       "        text-align: right;\n",
       "    }\n",
       "</style>\n",
       "<table border=\"1\" class=\"dataframe\">\n",
       "  <thead>\n",
       "    <tr style=\"text-align: right;\">\n",
       "      <th></th>\n",
       "      <th>total_number_of_comments</th>\n",
       "      <th>commentor</th>\n",
       "    </tr>\n",
       "    <tr>\n",
       "      <th>commentor</th>\n",
       "      <th></th>\n",
       "      <th></th>\n",
       "    </tr>\n",
       "  </thead>\n",
       "  <tbody>\n",
       "    <tr>\n",
       "      <th>\\nguitarkevin</th>\n",
       "      <td>1</td>\n",
       "      <td>\\nguitarkevin</td>\n",
       "    </tr>\n",
       "    <tr>\n",
       "      <th>\\npraetorian12</th>\n",
       "      <td>1</td>\n",
       "      <td>\\npraetorian12</td>\n",
       "    </tr>\n",
       "    <tr>\n",
       "      <th>\"All Eyez On Me\" in theaters NOW!!!</th>\n",
       "      <td>6</td>\n",
       "      <td>\"All Eyez On Me\" in theaters NOW!!!</td>\n",
       "    </tr>\n",
       "    <tr>\n",
       "      <th>\"All Eyez On Me\" in theaters june 16 2017</th>\n",
       "      <td>49</td>\n",
       "      <td>\"All Eyez On Me\" in theaters june 16 2017</td>\n",
       "    </tr>\n",
       "    <tr>\n",
       "      <th>\"Coach\"Davis</th>\n",
       "      <td>31</td>\n",
       "      <td>\"Coach\"Davis</td>\n",
       "    </tr>\n",
       "  </tbody>\n",
       "</table>\n",
       "</div>"
      ],
      "text/plain": [
       "                                           total_number_of_comments  \\\n",
       "commentor                                                             \n",
       "\\nguitarkevin                                                     1   \n",
       "\\npraetorian12                                                    1   \n",
       "\"All Eyez On Me\" in theaters NOW!!!                               6   \n",
       "\"All Eyez On Me\" in theaters june 16 2017                        49   \n",
       "\"Coach\"Davis                                                     31   \n",
       "\n",
       "                                                                           commentor  \n",
       "commentor                                                                             \n",
       "\\nguitarkevin                                                          \\nguitarkevin  \n",
       "\\npraetorian12                                                        \\npraetorian12  \n",
       "\"All Eyez On Me\" in theaters NOW!!!              \"All Eyez On Me\" in theaters NOW!!!  \n",
       "\"All Eyez On Me\" in theaters june 16 2017  \"All Eyez On Me\" in theaters june 16 2017  \n",
       "\"Coach\"Davis                                                            \"Coach\"Davis  "
      ]
     },
     "execution_count": 26,
     "metadata": {},
     "output_type": "execute_result"
    }
   ],
   "source": [
    "# Calculate the total number of comments by each commentor\n",
    "commentor_features = pd.DataFrame(comments.groupby(['commentor']).size())\n",
    "commentor_features['commentor'] = commentor_features.index\n",
    "commentor_features.columns = ['total_number_of_comments','commentor']\n",
    "commentor_features.head()"
   ]
  },
  {
   "cell_type": "code",
   "execution_count": 32,
   "metadata": {},
   "outputs": [
    {
     "data": {
      "text/html": [
       "<div>\n",
       "<style scoped>\n",
       "    .dataframe tbody tr th:only-of-type {\n",
       "        vertical-align: middle;\n",
       "    }\n",
       "\n",
       "    .dataframe tbody tr th {\n",
       "        vertical-align: top;\n",
       "    }\n",
       "\n",
       "    .dataframe thead th {\n",
       "        text-align: right;\n",
       "    }\n",
       "</style>\n",
       "<table border=\"1\" class=\"dataframe\">\n",
       "  <thead>\n",
       "    <tr style=\"text-align: right;\">\n",
       "      <th></th>\n",
       "      <th>number_of_articles_commented_on</th>\n",
       "    </tr>\n",
       "    <tr>\n",
       "      <th>commentor</th>\n",
       "      <th></th>\n",
       "    </tr>\n",
       "  </thead>\n",
       "  <tbody>\n",
       "    <tr>\n",
       "      <th>\\nguitarkevin</th>\n",
       "      <td>1</td>\n",
       "    </tr>\n",
       "    <tr>\n",
       "      <th>\\npraetorian12</th>\n",
       "      <td>1</td>\n",
       "    </tr>\n",
       "    <tr>\n",
       "      <th>\"All Eyez On Me\" in theaters NOW!!!</th>\n",
       "      <td>6</td>\n",
       "    </tr>\n",
       "    <tr>\n",
       "      <th>\"All Eyez On Me\" in theaters june 16 2017</th>\n",
       "      <td>49</td>\n",
       "    </tr>\n",
       "    <tr>\n",
       "      <th>\"Coach\"Davis</th>\n",
       "      <td>30</td>\n",
       "    </tr>\n",
       "  </tbody>\n",
       "</table>\n",
       "</div>"
      ],
      "text/plain": [
       "                                           number_of_articles_commented_on\n",
       "commentor                                                                 \n",
       "\\nguitarkevin                                                            1\n",
       "\\npraetorian12                                                           1\n",
       "\"All Eyez On Me\" in theaters NOW!!!                                      6\n",
       "\"All Eyez On Me\" in theaters june 16 2017                               49\n",
       "\"Coach\"Davis                                                            30"
      ]
     },
     "execution_count": 32,
     "metadata": {},
     "output_type": "execute_result"
    }
   ],
   "source": [
    "# Calculate the number of unique articles the commentor commented on\n",
    "unique_articles = comments.groupby(['commentor','article_url']).size()\n",
    "unique_articles_df = pd.DataFrame(unique_articles.groupby(['commentor']).size())\n",
    "unique_articles_df.columns = ['number_of_articles_commented_on']\n",
    "# unique_articles_df.head()"
   ]
  },
  {
   "cell_type": "code",
   "execution_count": 44,
   "metadata": {},
   "outputs": [
    {
     "data": {
      "text/html": [
       "<div>\n",
       "<style scoped>\n",
       "    .dataframe tbody tr th:only-of-type {\n",
       "        vertical-align: middle;\n",
       "    }\n",
       "\n",
       "    .dataframe tbody tr th {\n",
       "        vertical-align: top;\n",
       "    }\n",
       "\n",
       "    .dataframe thead th {\n",
       "        text-align: right;\n",
       "    }\n",
       "</style>\n",
       "<table border=\"1\" class=\"dataframe\">\n",
       "  <thead>\n",
       "    <tr style=\"text-align: right;\">\n",
       "      <th></th>\n",
       "      <th>number_of_articles_w_exactly_one_comment</th>\n",
       "    </tr>\n",
       "    <tr>\n",
       "      <th>commentor</th>\n",
       "      <th></th>\n",
       "    </tr>\n",
       "  </thead>\n",
       "  <tbody>\n",
       "    <tr>\n",
       "      <th>\\nguitarkevin</th>\n",
       "      <td>1</td>\n",
       "    </tr>\n",
       "    <tr>\n",
       "      <th>\\npraetorian12</th>\n",
       "      <td>1</td>\n",
       "    </tr>\n",
       "    <tr>\n",
       "      <th>\"All Eyez On Me\" in theaters NOW!!!</th>\n",
       "      <td>6</td>\n",
       "    </tr>\n",
       "    <tr>\n",
       "      <th>\"All Eyez On Me\" in theaters june 16 2017</th>\n",
       "      <td>49</td>\n",
       "    </tr>\n",
       "    <tr>\n",
       "      <th>\"Coach\"Davis</th>\n",
       "      <td>29</td>\n",
       "    </tr>\n",
       "  </tbody>\n",
       "</table>\n",
       "</div>"
      ],
      "text/plain": [
       "                                           number_of_articles_w_exactly_one_comment\n",
       "commentor                                                                          \n",
       "\\nguitarkevin                                                                     1\n",
       "\\npraetorian12                                                                    1\n",
       "\"All Eyez On Me\" in theaters NOW!!!                                               6\n",
       "\"All Eyez On Me\" in theaters june 16 2017                                        49\n",
       "\"Coach\"Davis                                                                     29"
      ]
     },
     "execution_count": 44,
     "metadata": {},
     "output_type": "execute_result"
    }
   ],
   "source": [
    "# Calculate the number of unique articles the commentor commented on exactly once\n",
    "unique_articles_single_comment = comments.groupby(['commentor','article_url']).size()\n",
    "unique_articles_single_comment_df = pd.DataFrame(unique_articles_single_comment)\n",
    "unique_articles_single_comment_df = unique_articles_single_comment_df[unique_articles_single_comment_df[0] == 1]\n",
    "unique_articles_single_comment_df = pd.DataFrame(unique_articles_single_comment_df.groupby(['commentor']).size())\n",
    "unique_articles_single_comment_df.columns = ['number_of_articles_w_exactly_one_comment']\n",
    "# unique_articles_single_comment_df.head()"
   ]
  },
  {
   "cell_type": "code",
   "execution_count": 48,
   "metadata": {},
   "outputs": [
    {
     "data": {
      "text/html": [
       "<div>\n",
       "<style scoped>\n",
       "    .dataframe tbody tr th:only-of-type {\n",
       "        vertical-align: middle;\n",
       "    }\n",
       "\n",
       "    .dataframe tbody tr th {\n",
       "        vertical-align: top;\n",
       "    }\n",
       "\n",
       "    .dataframe thead th {\n",
       "        text-align: right;\n",
       "    }\n",
       "</style>\n",
       "<table border=\"1\" class=\"dataframe\">\n",
       "  <thead>\n",
       "    <tr style=\"text-align: right;\">\n",
       "      <th></th>\n",
       "      <th>number_of_articles_w_more_than_one_comment</th>\n",
       "    </tr>\n",
       "    <tr>\n",
       "      <th>commentor</th>\n",
       "      <th></th>\n",
       "    </tr>\n",
       "  </thead>\n",
       "  <tbody>\n",
       "    <tr>\n",
       "      <th>\"Coach\"Davis</th>\n",
       "      <td>1</td>\n",
       "    </tr>\n",
       "    <tr>\n",
       "      <th>\"Cue the haters in 3….2…..1……”</th>\n",
       "      <td>1</td>\n",
       "    </tr>\n",
       "    <tr>\n",
       "      <th>\"Hate\"</th>\n",
       "      <td>1</td>\n",
       "    </tr>\n",
       "    <tr>\n",
       "      <th>\"Stats-Are-For-Losers\"</th>\n",
       "      <td>1</td>\n",
       "    </tr>\n",
       "    <tr>\n",
       "      <th>#1</th>\n",
       "      <td>8</td>\n",
       "    </tr>\n",
       "  </tbody>\n",
       "</table>\n",
       "</div>"
      ],
      "text/plain": [
       "                                number_of_articles_w_more_than_one_comment\n",
       "commentor                                                                 \n",
       "\"Coach\"Davis                                                             1\n",
       "\"Cue the haters in 3….2…..1……”                                           1\n",
       "\"Hate\"                                                                   1\n",
       "\"Stats-Are-For-Losers\"                                                   1\n",
       "#1                                                                       8"
      ]
     },
     "execution_count": 48,
     "metadata": {},
     "output_type": "execute_result"
    }
   ],
   "source": [
    "# Calculate the number of unique articles the commentor commented on more than once\n",
    "unique_articles_mulitple_comment = comments.groupby(['commentor','article_url']).size()\n",
    "unique_articles_mulitple_comment_df = pd.DataFrame(unique_articles_mulitple_comment)\n",
    "unique_articles_mulitple_comment_df = unique_articles_mulitple_comment_df[unique_articles_mulitple_comment_df[0] > 1]\n",
    "unique_articles_mulitple_comment_df = pd.DataFrame(unique_articles_mulitple_comment_df.groupby(['commentor']).size())\n",
    "unique_articles_mulitple_comment_df.columns = ['number_of_articles_w_more_than_one_comment']\n",
    "# unique_articles_mulitple_comment_df.head()"
   ]
  },
  {
   "cell_type": "code",
   "execution_count": 51,
   "metadata": {},
   "outputs": [
    {
     "data": {
      "text/html": [
       "<div>\n",
       "<style scoped>\n",
       "    .dataframe tbody tr th:only-of-type {\n",
       "        vertical-align: middle;\n",
       "    }\n",
       "\n",
       "    .dataframe tbody tr th {\n",
       "        vertical-align: top;\n",
       "    }\n",
       "\n",
       "    .dataframe thead th {\n",
       "        text-align: right;\n",
       "    }\n",
       "</style>\n",
       "<table border=\"1\" class=\"dataframe\">\n",
       "  <thead>\n",
       "    <tr style=\"text-align: right;\">\n",
       "      <th></th>\n",
       "      <th>min</th>\n",
       "      <th>max</th>\n",
       "      <th>commentor_activity_duration_in_days</th>\n",
       "    </tr>\n",
       "    <tr>\n",
       "      <th>commentor</th>\n",
       "      <th></th>\n",
       "      <th></th>\n",
       "      <th></th>\n",
       "    </tr>\n",
       "  </thead>\n",
       "  <tbody>\n",
       "    <tr>\n",
       "      <th>\\nguitarkevin</th>\n",
       "      <td>2013-07-09 14:05:00</td>\n",
       "      <td>2013-07-09 14:05:00</td>\n",
       "      <td>0</td>\n",
       "    </tr>\n",
       "    <tr>\n",
       "      <th>\\npraetorian12</th>\n",
       "      <td>2013-07-09 14:02:00</td>\n",
       "      <td>2013-07-09 14:02:00</td>\n",
       "      <td>0</td>\n",
       "    </tr>\n",
       "    <tr>\n",
       "      <th>\"All Eyez On Me\" in theaters NOW!!!</th>\n",
       "      <td>2017-06-21 07:43:00</td>\n",
       "      <td>2017-07-01 12:47:00</td>\n",
       "      <td>10</td>\n",
       "    </tr>\n",
       "    <tr>\n",
       "      <th>\"All Eyez On Me\" in theaters june 16 2017</th>\n",
       "      <td>2017-04-09 07:14:00</td>\n",
       "      <td>2017-06-20 08:00:00</td>\n",
       "      <td>72</td>\n",
       "    </tr>\n",
       "    <tr>\n",
       "      <th>\"Coach\"Davis</th>\n",
       "      <td>2010-04-25 13:14:00</td>\n",
       "      <td>2011-10-08 12:48:00</td>\n",
       "      <td>530</td>\n",
       "    </tr>\n",
       "  </tbody>\n",
       "</table>\n",
       "</div>"
      ],
      "text/plain": [
       "                                                          min  \\\n",
       "commentor                                                       \n",
       "\\nguitarkevin                             2013-07-09 14:05:00   \n",
       "\\npraetorian12                            2013-07-09 14:02:00   \n",
       "\"All Eyez On Me\" in theaters NOW!!!       2017-06-21 07:43:00   \n",
       "\"All Eyez On Me\" in theaters june 16 2017 2017-04-09 07:14:00   \n",
       "\"Coach\"Davis                              2010-04-25 13:14:00   \n",
       "\n",
       "                                                          max  \\\n",
       "commentor                                                       \n",
       "\\nguitarkevin                             2013-07-09 14:05:00   \n",
       "\\npraetorian12                            2013-07-09 14:02:00   \n",
       "\"All Eyez On Me\" in theaters NOW!!!       2017-07-01 12:47:00   \n",
       "\"All Eyez On Me\" in theaters june 16 2017 2017-06-20 08:00:00   \n",
       "\"Coach\"Davis                              2011-10-08 12:48:00   \n",
       "\n",
       "                                           commentor_activity_duration_in_days  \n",
       "commentor                                                                       \n",
       "\\nguitarkevin                                                                0  \n",
       "\\npraetorian12                                                               0  \n",
       "\"All Eyez On Me\" in theaters NOW!!!                                         10  \n",
       "\"All Eyez On Me\" in theaters june 16 2017                                   72  \n",
       "\"Coach\"Davis                                                               530  "
      ]
     },
     "execution_count": 51,
     "metadata": {},
     "output_type": "execute_result"
    }
   ],
   "source": [
    "# Calculate how long (in days) a commentor has been active on pft\n",
    "commentor_activity_duration = comments.groupby(['commentor']).agg({'comment_datetime_clean':['min','max']})\n",
    "commentor_activity_duration.columns = commentor_activity_duration.columns.droplevel()\n",
    "commentor_activity_duration['commentor_activity_duration_in_days'] = (commentor_activity_duration['max'] - commentor_activity_duration['min']).dt.days\n",
    "# commentor_activity_duration.head()"
   ]
  },
  {
   "cell_type": "code",
   "execution_count": null,
   "metadata": {},
   "outputs": [],
   "source": []
  },
  {
   "cell_type": "code",
   "execution_count": null,
   "metadata": {},
   "outputs": [],
   "source": []
  },
  {
   "cell_type": "code",
   "execution_count": null,
   "metadata": {},
   "outputs": [],
   "source": []
  },
  {
   "cell_type": "code",
   "execution_count": null,
   "metadata": {},
   "outputs": [],
   "source": [
    "# Check if the first comment was \"in-season\" vs during the \"off-season\"\n",
    "# In-season being between 9/1 and 2/10, inclusive\n",
    "commentor_activity_duration['first_comment_was_during_season'] = np.where(commentor_activity_duration['min'] < dt.date(2020, 9, 1), 1, 0)\n",
    "commentor_activity_duration = commentor_activity_duration.drop(labels=['min','max'], axis=1)\n",
    "# commentor_activity_duration.head()"
   ]
  },
  {
   "cell_type": "markdown",
   "metadata": {},
   "source": [
    "### Engineer categorical features"
   ]
  },
  {
   "cell_type": "raw",
   "metadata": {},
   "source": [
    "No categorical features"
   ]
  },
  {
   "cell_type": "markdown",
   "metadata": {},
   "source": [
    "### Combine all features"
   ]
  },
  {
   "cell_type": "code",
   "execution_count": null,
   "metadata": {},
   "outputs": [],
   "source": [
    "commentor_features_all = pd.concat([commentor_features, \n",
    "                                    unique_articles_df, \n",
    "                                    \n",
    "                                    multiple_comments, \n",
    "                                    commentor_activity_duration,\n",
    "                                    commentor_comment_body_metrics,\n",
    "                                    comments_dow,\n",
    "                                    comments_hour,\n",
    "                                    ] ,axis=1)\n",
    "print(commentor_features_all.shape)\n",
    "commentor_features_all.head()"
   ]
  }
 ],
 "metadata": {
  "kernelspec": {
   "display_name": "pft",
   "language": "python",
   "name": "pft"
  },
  "language_info": {
   "codemirror_mode": {
    "name": "ipython",
    "version": 3
   },
   "file_extension": ".py",
   "mimetype": "text/x-python",
   "name": "python",
   "nbconvert_exporter": "python",
   "pygments_lexer": "ipython3",
   "version": "3.7.9"
  }
 },
 "nbformat": 4,
 "nbformat_minor": 4
}
