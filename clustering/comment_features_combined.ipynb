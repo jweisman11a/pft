{
 "cells": [
  {
   "cell_type": "code",
   "execution_count": 1,
   "metadata": {},
   "outputs": [],
   "source": [
    "# Import libraries\n",
    "import pandas as pd\n",
    "import numpy as np\n",
    "import os\n",
    "import glob"
   ]
  },
  {
   "cell_type": "markdown",
   "metadata": {},
   "source": [
    "### Load features and combine into a single dataset"
   ]
  },
  {
   "cell_type": "code",
   "execution_count": 2,
   "metadata": {},
   "outputs": [
    {
     "name": "stdout",
     "output_type": "stream",
     "text": [
      "['01_total_number_of_comments.csv', '02_unique_articles_df.csv', '03_unique_articles_single_comment_df.csv', '04_unique_articles_mulitple_comment_df.csv', '05_commentor_activity_duration.csv', '06_commentor_username_length.csv', '07_commentor_comment_body_metrics.csv', '08_hours_between_metrics.csv', '09_comments_dow.csv', '10_comments_hour.csv', '11_in_season_comments.csv', '12_commentor_max_comments_df.csv']\n"
     ]
    }
   ],
   "source": [
    "# Inspect files\n",
    "feature_files = os.listdir('../data/cluster_features/')\n",
    "print(feature_files)"
   ]
  },
  {
   "cell_type": "code",
   "execution_count": 3,
   "metadata": {},
   "outputs": [
    {
     "data": {
      "text/plain": [
       "56"
      ]
     },
     "execution_count": 3,
     "metadata": {},
     "output_type": "execute_result"
    }
   ],
   "source": [
    "# Expected number of features\n",
    "total_cols = 0\n",
    "for file in feature_files:\n",
    "    df = pd.read_csv(f'../data/cluster_features/{file}', nrows=5)\n",
    "    total_cols += df.shape[1] - 1  # Exclude index\n",
    "total_cols    "
   ]
  },
  {
   "cell_type": "code",
   "execution_count": 5,
   "metadata": {},
   "outputs": [
    {
     "data": {
      "text/plain": [
       "(165718, 56)"
      ]
     },
     "execution_count": 5,
     "metadata": {},
     "output_type": "execute_result"
    }
   ],
   "source": [
    "# Add the path to each feature file\n",
    "feature_files_w_path = list()\n",
    "for f in feature_files:\n",
    "    feature_files_w_path.append(f'../data/cluster_features/{f}')\n",
    "\n",
    "# Read the first file to use as seed\n",
    "df = pd.read_csv(feature_files_w_path[0], header=0, index_col=0)\n",
    "\n",
    "# Iterate through files and merge into seed\n",
    "for df_ in feature_files_w_path[1:]:\n",
    "    df_next = pd.read_csv(df_, header=0, index_col=0)\n",
    "    df = df.merge(df_next, on='commentor', how='left')\n",
    "    \n",
    "df.shape"
   ]
  },
  {
   "cell_type": "code",
   "execution_count": 6,
   "metadata": {},
   "outputs": [],
   "source": [
    "# Write combined dataset to flat file\n",
    "df.to_csv('../data/cleaned/comment_features.csv', header=True, index=True)"
   ]
  }
 ],
 "metadata": {
  "kernelspec": {
   "display_name": "pft",
   "language": "python",
   "name": "pft"
  },
  "language_info": {
   "codemirror_mode": {
    "name": "ipython",
    "version": 3
   },
   "file_extension": ".py",
   "mimetype": "text/x-python",
   "name": "python",
   "nbconvert_exporter": "python",
   "pygments_lexer": "ipython3",
   "version": "3.7.9"
  }
 },
 "nbformat": 4,
 "nbformat_minor": 4
}
