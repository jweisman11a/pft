{
 "cells": [
  {
   "cell_type": "code",
   "execution_count": 7,
   "metadata": {},
   "outputs": [],
   "source": [
    "# Import libraries\n",
    "import pandas as pd\n",
    "import numpy as np\n",
    "import os\n",
    "import glob"
   ]
  },
  {
   "cell_type": "markdown",
   "metadata": {},
   "source": [
    "### Load features and combine into a single dataset"
   ]
  },
  {
   "cell_type": "code",
   "execution_count": 18,
   "metadata": {},
   "outputs": [
    {
     "name": "stdout",
     "output_type": "stream",
     "text": [
      "['01_total_number_of_comments.csv', '02_unique_articles_df.csv', '03_unique_articles_single_comment_df.csv', '04_unique_articles_mulitple_comment_df.csv', '05_commentor_activity_duration.csv', '06_commentor_username_length.csv', '07_commentor_comment_body_metrics.csv', '08_hours_between_metrics.csv', '09_comments_dow.csv', '10_comments_hour.csv', '11_in_season_comments.csv', '12_commentor_max_comments_df.csv']\n"
     ]
    }
   ],
   "source": [
    "# Inspect files\n",
    "feature_files = os.listdir('../data/cluster_features/')\n",
    "print(feature_files)"
   ]
  },
  {
   "cell_type": "code",
   "execution_count": 19,
   "metadata": {},
   "outputs": [
    {
     "data": {
      "text/plain": [
       "56"
      ]
     },
     "execution_count": 19,
     "metadata": {},
     "output_type": "execute_result"
    }
   ],
   "source": [
    "# Expected number of features\n",
    "total_cols = 0\n",
    "for file in feature_files:\n",
    "    df = pd.read_csv(f'../data/cluster_features/{file}', nrows=5)\n",
    "    total_cols += df.shape[1] - 1  # Exclude index\n",
    "total_cols    "
   ]
  },
  {
   "cell_type": "code",
   "execution_count": 20,
   "metadata": {},
   "outputs": [
    {
     "data": {
      "text/plain": [
       "['../data/cluster_features/01_total_number_of_comments.csv',\n",
       " '../data/cluster_features/02_unique_articles_df.csv',\n",
       " '../data/cluster_features/03_unique_articles_single_comment_df.csv',\n",
       " '../data/cluster_features/04_unique_articles_mulitple_comment_df.csv',\n",
       " '../data/cluster_features/05_commentor_activity_duration.csv',\n",
       " '../data/cluster_features/06_commentor_username_length.csv',\n",
       " '../data/cluster_features/07_commentor_comment_body_metrics.csv',\n",
       " '../data/cluster_features/08_hours_between_metrics.csv',\n",
       " '../data/cluster_features/09_comments_dow.csv',\n",
       " '../data/cluster_features/10_comments_hour.csv',\n",
       " '../data/cluster_features/11_in_season_comments.csv',\n",
       " '../data/cluster_features/12_commentor_max_comments_df.csv']"
      ]
     },
     "execution_count": 20,
     "metadata": {},
     "output_type": "execute_result"
    }
   ],
   "source": []
  },
  {
   "cell_type": "code",
   "execution_count": 26,
   "metadata": {},
   "outputs": [
    {
     "data": {
      "text/html": [
       "<div>\n",
       "<style scoped>\n",
       "    .dataframe tbody tr th:only-of-type {\n",
       "        vertical-align: middle;\n",
       "    }\n",
       "\n",
       "    .dataframe tbody tr th {\n",
       "        vertical-align: top;\n",
       "    }\n",
       "\n",
       "    .dataframe thead th {\n",
       "        text-align: right;\n",
       "    }\n",
       "</style>\n",
       "<table border=\"1\" class=\"dataframe\">\n",
       "  <thead>\n",
       "    <tr style=\"text-align: right;\">\n",
       "      <th></th>\n",
       "      <th>total_number_of_comments</th>\n",
       "      <th>commentor.1</th>\n",
       "    </tr>\n",
       "    <tr>\n",
       "      <th>commentor</th>\n",
       "      <th></th>\n",
       "      <th></th>\n",
       "    </tr>\n",
       "  </thead>\n",
       "  <tbody>\n",
       "    <tr>\n",
       "      <th>\\nguitarkevin</th>\n",
       "      <td>1</td>\n",
       "      <td>\\nguitarkevin</td>\n",
       "    </tr>\n",
       "    <tr>\n",
       "      <th>\\npraetorian12</th>\n",
       "      <td>1</td>\n",
       "      <td>\\npraetorian12</td>\n",
       "    </tr>\n",
       "    <tr>\n",
       "      <th>\"All Eyez On Me\" in theaters NOW!!!</th>\n",
       "      <td>6</td>\n",
       "      <td>\"All Eyez On Me\" in theaters NOW!!!</td>\n",
       "    </tr>\n",
       "    <tr>\n",
       "      <th>\"All Eyez On Me\" in theaters june 16 2017</th>\n",
       "      <td>49</td>\n",
       "      <td>\"All Eyez On Me\" in theaters june 16 2017</td>\n",
       "    </tr>\n",
       "    <tr>\n",
       "      <th>\"Coach\"Davis</th>\n",
       "      <td>31</td>\n",
       "      <td>\"Coach\"Davis</td>\n",
       "    </tr>\n",
       "  </tbody>\n",
       "</table>\n",
       "</div>"
      ],
      "text/plain": [
       "                                           total_number_of_comments  \\\n",
       "commentor                                                             \n",
       "\\nguitarkevin                                                     1   \n",
       "\\npraetorian12                                                    1   \n",
       "\"All Eyez On Me\" in theaters NOW!!!                               6   \n",
       "\"All Eyez On Me\" in theaters june 16 2017                        49   \n",
       "\"Coach\"Davis                                                     31   \n",
       "\n",
       "                                                                         commentor.1  \n",
       "commentor                                                                             \n",
       "\\nguitarkevin                                                          \\nguitarkevin  \n",
       "\\npraetorian12                                                        \\npraetorian12  \n",
       "\"All Eyez On Me\" in theaters NOW!!!              \"All Eyez On Me\" in theaters NOW!!!  \n",
       "\"All Eyez On Me\" in theaters june 16 2017  \"All Eyez On Me\" in theaters june 16 2017  \n",
       "\"Coach\"Davis                                                            \"Coach\"Davis  "
      ]
     },
     "execution_count": 26,
     "metadata": {},
     "output_type": "execute_result"
    }
   ],
   "source": [
    "pd.read_csv(feature_files_w_path[0], header=0, index_col=0, nrows=5)"
   ]
  },
  {
   "cell_type": "code",
   "execution_count": 31,
   "metadata": {},
   "outputs": [
    {
     "data": {
      "text/plain": [
       "(165718, 56)"
      ]
     },
     "execution_count": 31,
     "metadata": {},
     "output_type": "execute_result"
    }
   ],
   "source": [
    "# Add the path to each feature file\n",
    "feature_files_w_path = list()\n",
    "for f in feature_files:\n",
    "    feature_files_w_path.append(f'../data/cluster_features/{f}')\n",
    "\n",
    "# Read the first file to use as seed\n",
    "df = pd.read_csv(feature_files_w_path[0], header=0, index_col=0)\n",
    "\n",
    "# Iterate through files and merge into seed\n",
    "for df_ in feature_files_w_path[1:]:\n",
    "    df_next = pd.read_csv(df_, header=0, index_col=0)\n",
    "    df = df.merge(df_next, on='commentor', how='left')\n",
    "    \n",
    "df.shape"
   ]
  },
  {
   "cell_type": "code",
   "execution_count": 36,
   "metadata": {},
   "outputs": [],
   "source": [
    "# Write combined dataset to flat file\n",
    "df.to_csv('../data/cleaned/comment_features.csv', header=True, index=True)"
   ]
  },
  {
   "cell_type": "code",
   "execution_count": 35,
   "metadata": {},
   "outputs": [],
   "source": [
    "os.remove('comment_features.csv')"
   ]
  },
  {
   "cell_type": "code",
   "execution_count": null,
   "metadata": {},
   "outputs": [],
   "source": []
  }
 ],
 "metadata": {
  "kernelspec": {
   "display_name": "pft",
   "language": "python",
   "name": "pft"
  },
  "language_info": {
   "codemirror_mode": {
    "name": "ipython",
    "version": 3
   },
   "file_extension": ".py",
   "mimetype": "text/x-python",
   "name": "python",
   "nbconvert_exporter": "python",
   "pygments_lexer": "ipython3",
   "version": "3.7.9"
  }
 },
 "nbformat": 4,
 "nbformat_minor": 4
}
